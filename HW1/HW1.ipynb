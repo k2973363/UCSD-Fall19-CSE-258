{
 "cells": [
  {
   "cell_type": "code",
   "execution_count": 41,
   "metadata": {},
   "outputs": [],
   "source": [
    "import pandas as pd\n",
    "import numpy as np\n",
    "from sklearn import linear_model\n",
    "from sklearn.metrics import mean_squared_error\n",
    "from matplotlib import pyplot as plt\n",
    "import random"
   ]
  },
  {
   "cell_type": "code",
   "execution_count": 2,
   "metadata": {},
   "outputs": [],
   "source": [
    "giftcard = pd.read_csv('amazon_reviews_us_Gift_Card_v1_00.tsv', sep='\\t')"
   ]
  },
  {
   "cell_type": "code",
   "execution_count": 4,
   "metadata": {},
   "outputs": [
    {
     "data": {
      "text/html": [
       "<div>\n",
       "<style scoped>\n",
       "    .dataframe tbody tr th:only-of-type {\n",
       "        vertical-align: middle;\n",
       "    }\n",
       "\n",
       "    .dataframe tbody tr th {\n",
       "        vertical-align: top;\n",
       "    }\n",
       "\n",
       "    .dataframe thead th {\n",
       "        text-align: right;\n",
       "    }\n",
       "</style>\n",
       "<table border=\"1\" class=\"dataframe\">\n",
       "  <thead>\n",
       "    <tr style=\"text-align: right;\">\n",
       "      <th></th>\n",
       "      <th>marketplace</th>\n",
       "      <th>customer_id</th>\n",
       "      <th>review_id</th>\n",
       "      <th>product_id</th>\n",
       "      <th>product_parent</th>\n",
       "      <th>product_title</th>\n",
       "      <th>product_category</th>\n",
       "      <th>star_rating</th>\n",
       "      <th>helpful_votes</th>\n",
       "      <th>total_votes</th>\n",
       "      <th>vine</th>\n",
       "      <th>verified_purchase</th>\n",
       "      <th>review_headline</th>\n",
       "      <th>review_body</th>\n",
       "      <th>review_date</th>\n",
       "    </tr>\n",
       "  </thead>\n",
       "  <tbody>\n",
       "    <tr>\n",
       "      <td>0</td>\n",
       "      <td>US</td>\n",
       "      <td>24371595</td>\n",
       "      <td>R27ZP1F1CD0C3Y</td>\n",
       "      <td>B004LLIL5A</td>\n",
       "      <td>346014806</td>\n",
       "      <td>Amazon eGift Card - Celebrate</td>\n",
       "      <td>Gift Card</td>\n",
       "      <td>5</td>\n",
       "      <td>0</td>\n",
       "      <td>0</td>\n",
       "      <td>N</td>\n",
       "      <td>Y</td>\n",
       "      <td>Five Stars</td>\n",
       "      <td>Great birthday gift for a young adult.</td>\n",
       "      <td>2015-08-31</td>\n",
       "    </tr>\n",
       "    <tr>\n",
       "      <td>1</td>\n",
       "      <td>US</td>\n",
       "      <td>42489718</td>\n",
       "      <td>RJ7RSBCHUDNNE</td>\n",
       "      <td>B004LLIKVU</td>\n",
       "      <td>473048287</td>\n",
       "      <td>Amazon.com eGift Cards</td>\n",
       "      <td>Gift Card</td>\n",
       "      <td>5</td>\n",
       "      <td>0</td>\n",
       "      <td>0</td>\n",
       "      <td>N</td>\n",
       "      <td>Y</td>\n",
       "      <td>Gift card for the greatest selection of items ...</td>\n",
       "      <td>It's an Amazon gift card and with over 9823983...</td>\n",
       "      <td>2015-08-31</td>\n",
       "    </tr>\n",
       "    <tr>\n",
       "      <td>2</td>\n",
       "      <td>US</td>\n",
       "      <td>861463</td>\n",
       "      <td>R1HVYBSKLQJI5S</td>\n",
       "      <td>B00IX1I3G6</td>\n",
       "      <td>926539283</td>\n",
       "      <td>Amazon.com Gift Card Balance Reload</td>\n",
       "      <td>Gift Card</td>\n",
       "      <td>5</td>\n",
       "      <td>0</td>\n",
       "      <td>0</td>\n",
       "      <td>N</td>\n",
       "      <td>Y</td>\n",
       "      <td>Five Stars</td>\n",
       "      <td>Good</td>\n",
       "      <td>2015-08-31</td>\n",
       "    </tr>\n",
       "    <tr>\n",
       "      <td>3</td>\n",
       "      <td>US</td>\n",
       "      <td>25283295</td>\n",
       "      <td>R2HAXF0IIYQBIR</td>\n",
       "      <td>B00IX1I3G6</td>\n",
       "      <td>926539283</td>\n",
       "      <td>Amazon.com Gift Card Balance Reload</td>\n",
       "      <td>Gift Card</td>\n",
       "      <td>1</td>\n",
       "      <td>0</td>\n",
       "      <td>0</td>\n",
       "      <td>N</td>\n",
       "      <td>Y</td>\n",
       "      <td>One Star</td>\n",
       "      <td>Fair</td>\n",
       "      <td>2015-08-31</td>\n",
       "    </tr>\n",
       "    <tr>\n",
       "      <td>4</td>\n",
       "      <td>US</td>\n",
       "      <td>397970</td>\n",
       "      <td>RNYLPX611NB7Q</td>\n",
       "      <td>B005ESMGV4</td>\n",
       "      <td>379368939</td>\n",
       "      <td>Amazon.com Gift Cards, Pack of 3 (Various Desi...</td>\n",
       "      <td>Gift Card</td>\n",
       "      <td>5</td>\n",
       "      <td>0</td>\n",
       "      <td>0</td>\n",
       "      <td>N</td>\n",
       "      <td>Y</td>\n",
       "      <td>Five Stars</td>\n",
       "      <td>I can't believe how quickly Amazon can get the...</td>\n",
       "      <td>2015-08-31</td>\n",
       "    </tr>\n",
       "    <tr>\n",
       "      <td>...</td>\n",
       "      <td>...</td>\n",
       "      <td>...</td>\n",
       "      <td>...</td>\n",
       "      <td>...</td>\n",
       "      <td>...</td>\n",
       "      <td>...</td>\n",
       "      <td>...</td>\n",
       "      <td>...</td>\n",
       "      <td>...</td>\n",
       "      <td>...</td>\n",
       "      <td>...</td>\n",
       "      <td>...</td>\n",
       "      <td>...</td>\n",
       "      <td>...</td>\n",
       "      <td>...</td>\n",
       "    </tr>\n",
       "    <tr>\n",
       "      <td>95</td>\n",
       "      <td>US</td>\n",
       "      <td>9033254</td>\n",
       "      <td>R1TS3MW501CTP6</td>\n",
       "      <td>B00B2TFURQ</td>\n",
       "      <td>527289417</td>\n",
       "      <td>Amazon Gift Card - Print - Thank You (Note)</td>\n",
       "      <td>Gift Card</td>\n",
       "      <td>5</td>\n",
       "      <td>0</td>\n",
       "      <td>0</td>\n",
       "      <td>N</td>\n",
       "      <td>Y</td>\n",
       "      <td>Five Stars</td>\n",
       "      <td>Awesome gift</td>\n",
       "      <td>2015-08-31</td>\n",
       "    </tr>\n",
       "    <tr>\n",
       "      <td>96</td>\n",
       "      <td>US</td>\n",
       "      <td>29132432</td>\n",
       "      <td>R1Y3I0RJ1JZD53</td>\n",
       "      <td>BT00CTOY20</td>\n",
       "      <td>775486538</td>\n",
       "      <td>Amazon.com Gift Card in a Greeting Card (Vario...</td>\n",
       "      <td>Gift Card</td>\n",
       "      <td>5</td>\n",
       "      <td>0</td>\n",
       "      <td>0</td>\n",
       "      <td>N</td>\n",
       "      <td>Y</td>\n",
       "      <td>Works like a charm</td>\n",
       "      <td>Good as money on this site!</td>\n",
       "      <td>2015-08-31</td>\n",
       "    </tr>\n",
       "    <tr>\n",
       "      <td>97</td>\n",
       "      <td>US</td>\n",
       "      <td>18985804</td>\n",
       "      <td>R1EDV9IZ0628IG</td>\n",
       "      <td>B00PG40CO4</td>\n",
       "      <td>137115061</td>\n",
       "      <td>Amazon eGift Card - Happy Birthday (Doughnuts)</td>\n",
       "      <td>Gift Card</td>\n",
       "      <td>5</td>\n",
       "      <td>0</td>\n",
       "      <td>0</td>\n",
       "      <td>N</td>\n",
       "      <td>Y</td>\n",
       "      <td>Five Stars</td>\n",
       "      <td>great</td>\n",
       "      <td>2015-08-31</td>\n",
       "    </tr>\n",
       "    <tr>\n",
       "      <td>98</td>\n",
       "      <td>US</td>\n",
       "      <td>30984333</td>\n",
       "      <td>R3ATXW3TX9TQM6</td>\n",
       "      <td>B00BWDH3VS</td>\n",
       "      <td>473048287</td>\n",
       "      <td>Amazon.com eGift Cards</td>\n",
       "      <td>Gift Card</td>\n",
       "      <td>5</td>\n",
       "      <td>0</td>\n",
       "      <td>0</td>\n",
       "      <td>N</td>\n",
       "      <td>Y</td>\n",
       "      <td>Great Choice.</td>\n",
       "      <td>Suited the person I sent it to  well. Graphics...</td>\n",
       "      <td>2015-08-31</td>\n",
       "    </tr>\n",
       "    <tr>\n",
       "      <td>99</td>\n",
       "      <td>US</td>\n",
       "      <td>16003607</td>\n",
       "      <td>R2UZU8OYGE54XP</td>\n",
       "      <td>B00A48G0D4</td>\n",
       "      <td>848703272</td>\n",
       "      <td>Amazon eGift Card - Happy Birthday (Candles)</td>\n",
       "      <td>Gift Card</td>\n",
       "      <td>5</td>\n",
       "      <td>0</td>\n",
       "      <td>0</td>\n",
       "      <td>N</td>\n",
       "      <td>Y</td>\n",
       "      <td>Five Stars</td>\n",
       "      <td>EASY GIFT FOR STUDENTS AWAY</td>\n",
       "      <td>2015-08-31</td>\n",
       "    </tr>\n",
       "  </tbody>\n",
       "</table>\n",
       "<p>100 rows × 15 columns</p>\n",
       "</div>"
      ],
      "text/plain": [
       "   marketplace  customer_id       review_id  product_id  product_parent  \\\n",
       "0           US     24371595  R27ZP1F1CD0C3Y  B004LLIL5A       346014806   \n",
       "1           US     42489718   RJ7RSBCHUDNNE  B004LLIKVU       473048287   \n",
       "2           US       861463  R1HVYBSKLQJI5S  B00IX1I3G6       926539283   \n",
       "3           US     25283295  R2HAXF0IIYQBIR  B00IX1I3G6       926539283   \n",
       "4           US       397970   RNYLPX611NB7Q  B005ESMGV4       379368939   \n",
       "..         ...          ...             ...         ...             ...   \n",
       "95          US      9033254  R1TS3MW501CTP6  B00B2TFURQ       527289417   \n",
       "96          US     29132432  R1Y3I0RJ1JZD53  BT00CTOY20       775486538   \n",
       "97          US     18985804  R1EDV9IZ0628IG  B00PG40CO4       137115061   \n",
       "98          US     30984333  R3ATXW3TX9TQM6  B00BWDH3VS       473048287   \n",
       "99          US     16003607  R2UZU8OYGE54XP  B00A48G0D4       848703272   \n",
       "\n",
       "                                        product_title product_category  \\\n",
       "0                       Amazon eGift Card - Celebrate        Gift Card   \n",
       "1                              Amazon.com eGift Cards        Gift Card   \n",
       "2                 Amazon.com Gift Card Balance Reload        Gift Card   \n",
       "3                 Amazon.com Gift Card Balance Reload        Gift Card   \n",
       "4   Amazon.com Gift Cards, Pack of 3 (Various Desi...        Gift Card   \n",
       "..                                                ...              ...   \n",
       "95        Amazon Gift Card - Print - Thank You (Note)        Gift Card   \n",
       "96  Amazon.com Gift Card in a Greeting Card (Vario...        Gift Card   \n",
       "97     Amazon eGift Card - Happy Birthday (Doughnuts)        Gift Card   \n",
       "98                             Amazon.com eGift Cards        Gift Card   \n",
       "99       Amazon eGift Card - Happy Birthday (Candles)        Gift Card   \n",
       "\n",
       "    star_rating  helpful_votes  total_votes vine verified_purchase  \\\n",
       "0             5              0            0    N                 Y   \n",
       "1             5              0            0    N                 Y   \n",
       "2             5              0            0    N                 Y   \n",
       "3             1              0            0    N                 Y   \n",
       "4             5              0            0    N                 Y   \n",
       "..          ...            ...          ...  ...               ...   \n",
       "95            5              0            0    N                 Y   \n",
       "96            5              0            0    N                 Y   \n",
       "97            5              0            0    N                 Y   \n",
       "98            5              0            0    N                 Y   \n",
       "99            5              0            0    N                 Y   \n",
       "\n",
       "                                      review_headline  \\\n",
       "0                                          Five Stars   \n",
       "1   Gift card for the greatest selection of items ...   \n",
       "2                                          Five Stars   \n",
       "3                                            One Star   \n",
       "4                                          Five Stars   \n",
       "..                                                ...   \n",
       "95                                         Five Stars   \n",
       "96                                 Works like a charm   \n",
       "97                                         Five Stars   \n",
       "98                                      Great Choice.   \n",
       "99                                         Five Stars   \n",
       "\n",
       "                                          review_body review_date  \n",
       "0              Great birthday gift for a young adult.  2015-08-31  \n",
       "1   It's an Amazon gift card and with over 9823983...  2015-08-31  \n",
       "2                                                Good  2015-08-31  \n",
       "3                                                Fair  2015-08-31  \n",
       "4   I can't believe how quickly Amazon can get the...  2015-08-31  \n",
       "..                                                ...         ...  \n",
       "95                                       Awesome gift  2015-08-31  \n",
       "96                        Good as money on this site!  2015-08-31  \n",
       "97                                              great  2015-08-31  \n",
       "98  Suited the person I sent it to  well. Graphics...  2015-08-31  \n",
       "99                        EASY GIFT FOR STUDENTS AWAY  2015-08-31  \n",
       "\n",
       "[100 rows x 15 columns]"
      ]
     },
     "execution_count": 4,
     "metadata": {},
     "output_type": "execute_result"
    }
   ],
   "source": [
    "giftcard.head(100)"
   ]
  },
  {
   "cell_type": "code",
   "execution_count": 5,
   "metadata": {},
   "outputs": [
    {
     "data": {
      "text/html": [
       "<div>\n",
       "<style scoped>\n",
       "    .dataframe tbody tr th:only-of-type {\n",
       "        vertical-align: middle;\n",
       "    }\n",
       "\n",
       "    .dataframe tbody tr th {\n",
       "        vertical-align: top;\n",
       "    }\n",
       "\n",
       "    .dataframe thead th {\n",
       "        text-align: right;\n",
       "    }\n",
       "</style>\n",
       "<table border=\"1\" class=\"dataframe\">\n",
       "  <thead>\n",
       "    <tr style=\"text-align: right;\">\n",
       "      <th></th>\n",
       "      <th>customer_id</th>\n",
       "      <th>product_parent</th>\n",
       "      <th>star_rating</th>\n",
       "      <th>helpful_votes</th>\n",
       "      <th>total_votes</th>\n",
       "    </tr>\n",
       "  </thead>\n",
       "  <tbody>\n",
       "    <tr>\n",
       "      <td>count</td>\n",
       "      <td>1.483100e+05</td>\n",
       "      <td>1.483100e+05</td>\n",
       "      <td>148310.000000</td>\n",
       "      <td>148310.000000</td>\n",
       "      <td>148310.000000</td>\n",
       "    </tr>\n",
       "    <tr>\n",
       "      <td>mean</td>\n",
       "      <td>2.628931e+07</td>\n",
       "      <td>5.406163e+08</td>\n",
       "      <td>4.731333</td>\n",
       "      <td>0.397424</td>\n",
       "      <td>0.490493</td>\n",
       "    </tr>\n",
       "    <tr>\n",
       "      <td>std</td>\n",
       "      <td>1.587236e+07</td>\n",
       "      <td>2.661563e+08</td>\n",
       "      <td>0.829255</td>\n",
       "      <td>20.701385</td>\n",
       "      <td>22.823494</td>\n",
       "    </tr>\n",
       "    <tr>\n",
       "      <td>min</td>\n",
       "      <td>1.063700e+04</td>\n",
       "      <td>1.100879e+06</td>\n",
       "      <td>1.000000</td>\n",
       "      <td>0.000000</td>\n",
       "      <td>0.000000</td>\n",
       "    </tr>\n",
       "    <tr>\n",
       "      <td>25%</td>\n",
       "      <td>1.289732e+07</td>\n",
       "      <td>3.612555e+08</td>\n",
       "      <td>5.000000</td>\n",
       "      <td>0.000000</td>\n",
       "      <td>0.000000</td>\n",
       "    </tr>\n",
       "    <tr>\n",
       "      <td>50%</td>\n",
       "      <td>2.499530e+07</td>\n",
       "      <td>4.730483e+08</td>\n",
       "      <td>5.000000</td>\n",
       "      <td>0.000000</td>\n",
       "      <td>0.000000</td>\n",
       "    </tr>\n",
       "    <tr>\n",
       "      <td>75%</td>\n",
       "      <td>4.139731e+07</td>\n",
       "      <td>7.754865e+08</td>\n",
       "      <td>5.000000</td>\n",
       "      <td>0.000000</td>\n",
       "      <td>0.000000</td>\n",
       "    </tr>\n",
       "    <tr>\n",
       "      <td>max</td>\n",
       "      <td>5.309648e+07</td>\n",
       "      <td>9.992742e+08</td>\n",
       "      <td>5.000000</td>\n",
       "      <td>5987.000000</td>\n",
       "      <td>6323.000000</td>\n",
       "    </tr>\n",
       "  </tbody>\n",
       "</table>\n",
       "</div>"
      ],
      "text/plain": [
       "        customer_id  product_parent    star_rating  helpful_votes  \\\n",
       "count  1.483100e+05    1.483100e+05  148310.000000  148310.000000   \n",
       "mean   2.628931e+07    5.406163e+08       4.731333       0.397424   \n",
       "std    1.587236e+07    2.661563e+08       0.829255      20.701385   \n",
       "min    1.063700e+04    1.100879e+06       1.000000       0.000000   \n",
       "25%    1.289732e+07    3.612555e+08       5.000000       0.000000   \n",
       "50%    2.499530e+07    4.730483e+08       5.000000       0.000000   \n",
       "75%    4.139731e+07    7.754865e+08       5.000000       0.000000   \n",
       "max    5.309648e+07    9.992742e+08       5.000000    5987.000000   \n",
       "\n",
       "         total_votes  \n",
       "count  148310.000000  \n",
       "mean        0.490493  \n",
       "std        22.823494  \n",
       "min         0.000000  \n",
       "25%         0.000000  \n",
       "50%         0.000000  \n",
       "75%         0.000000  \n",
       "max      6323.000000  "
      ]
     },
     "execution_count": 5,
     "metadata": {},
     "output_type": "execute_result"
    }
   ],
   "source": [
    "giftcard.describe()"
   ]
  },
  {
   "cell_type": "code",
   "execution_count": 6,
   "metadata": {},
   "outputs": [
    {
     "data": {
      "text/plain": [
       "(148310, 15)"
      ]
     },
     "execution_count": 6,
     "metadata": {},
     "output_type": "execute_result"
    }
   ],
   "source": [
    "giftcard.shape"
   ]
  },
  {
   "cell_type": "markdown",
   "metadata": {},
   "source": [
    "## Tasks — Regression (week 1):\n",
    "First, let’s see how ratings can be predicted as a function of (a) whether a review is a ‘verified purchase’, and (b) the length of the review (in characters)."
   ]
  },
  {
   "cell_type": "markdown",
   "metadata": {},
   "source": [
    "#### 1. What is the distribution of ratings in the dataset? That is, how many 1-star, 2-star, 3-star (etc.) reviews are there? You may write out the values or include a simple plot"
   ]
  },
  {
   "cell_type": "markdown",
   "metadata": {},
   "source": [
    "Answer: <br>\n",
    "See below <br>"
   ]
  },
  {
   "cell_type": "code",
   "execution_count": 7,
   "metadata": {},
   "outputs": [],
   "source": [
    "gcSR = giftcard[['star_rating']]"
   ]
  },
  {
   "cell_type": "code",
   "execution_count": 8,
   "metadata": {},
   "outputs": [
    {
     "data": {
      "text/plain": [
       "<matplotlib.axes._subplots.AxesSubplot at 0x1023b1350>"
      ]
     },
     "execution_count": 8,
     "metadata": {},
     "output_type": "execute_result"
    },
    {
     "data": {
      "image/png": "[encoded data removed]",
      "text/plain": [
       "<Figure size 432x288 with 1 Axes>"
      ]
     },
     "metadata": {
      "needs_background": "light"
     },
     "output_type": "display_data"
    }
   ],
   "source": [
    "gcSR.plot.hist()"
   ]
  },
  {
   "cell_type": "code",
   "execution_count": 9,
   "metadata": {},
   "outputs": [
    {
     "data": {
      "text/plain": [
       "star_rating\n",
       "1      4766\n",
       "2      1560\n",
       "3      3147\n",
       "4      9808\n",
       "5    129029\n",
       "dtype: int64"
      ]
     },
     "execution_count": 9,
     "metadata": {},
     "output_type": "execute_result"
    }
   ],
   "source": [
    "gcSRg = gcSR.groupby('star_rating')\n",
    "gcSRg.size()"
   ]
  },
  {
   "cell_type": "markdown",
   "metadata": {},
   "source": [
    "#### 3. Train a simple predictor to predict the star rating using two features:\n",
    "   star rating ≃ θ0 + θ1 × [review is verified] + θ2 × [review length]\n",
    "\n",
    "Report the values of θ0, θ1, and θ2. Briefly describe your interpretation of these values, i.e., what do θ0, θ1, and θ2 represent? Explain these in terms of the features and labels, e.g. if the coefficient of ‘review length’ is negative, what would that say about verified versus unverified reviews?"
   ]
  },
  {
   "cell_type": "markdown",
   "metadata": {},
   "source": [
    "Answer: <br>\n",
    "(1) <br>\n",
    "θ0: 4.845035 <br>\n",
    "θ1: 0.049858 <br>\n",
    "θ2:-0.001245 <br>\n",
    "(2) <br>\n",
    "θ0: Base of the star rating (higher than the mean of overall star rating, 4.73133) <br>\n",
    "θ1: If the review is verified, the star rating would be increased <br>\n",
    "θ2: Longer the review length, lower the star rating"
   ]
  },
  {
   "cell_type": "code",
   "execution_count": 10,
   "metadata": {},
   "outputs": [],
   "source": [
    "def feature(row):\n",
    "    feat = [1]\n",
    "    if row['verified_purchase'] == \"Y\":\n",
    "        feat.append(1)\n",
    "    else:\n",
    "        feat.append(0)\n",
    "    feat.append(len(str(row['review_body'])))\n",
    "    return feat\n",
    "\n",
    "X1 = []\n",
    "Y = giftcard.star_rating.to_list()\n",
    "\n",
    "for index, row in giftcard.iterrows():\n",
    "    X1.append(feature(row))"
   ]
  },
  {
   "cell_type": "code",
   "execution_count": 11,
   "metadata": {},
   "outputs": [
    {
     "data": {
      "text/plain": [
       "array([ 4.84503535e+00,  4.98577544e-02, -1.24545535e-03])"
      ]
     },
     "execution_count": 11,
     "metadata": {},
     "output_type": "execute_result"
    }
   ],
   "source": [
    "theta,residuals,rank,s = np.linalg.lstsq(X1, Y, rcond = -1)\n",
    "np.array(theta)"
   ]
  },
  {
   "cell_type": "markdown",
   "metadata": {},
   "source": [
    "#### 4. Train another predictor that only uses one feature:\n",
    "star rating ≃ θ0 + θ1 × [review is verified]\n",
    "Report the values of θ0 and θ1. Note that coefficient you found here might be quite different (i.e., much larger or smaller) than the one from Question 3, even though these coefficients refer to the same feature."
   ]
  },
  {
   "cell_type": "markdown",
   "metadata": {},
   "source": [
    "Answer: <br>\n",
    "(1) <br>\n",
    "θ0: 4.578143 <br>\n",
    "θ1: 0.16793392 <br>\n",
    "(2) <br>\n",
    "θ0: Base of the star rating (below to the mean of overall star rating, 4.73133) <br>\n",
    "θ1: If the review is verified, the star rating would be increased <br>\n",
    "=> Compared to Q3, the importance of θ1 is increased"
   ]
  },
  {
   "cell_type": "code",
   "execution_count": 12,
   "metadata": {},
   "outputs": [],
   "source": [
    "def feature2(row):\n",
    "    feat = [1]\n",
    "    if row['verified_purchase'] == \"Y\":\n",
    "        feat.append(1)\n",
    "    else:\n",
    "        feat.append(0)\n",
    "    return feat\n",
    "\n",
    "X2 = []\n",
    "\n",
    "for index, row in giftcard.iterrows():\n",
    "    X2.append(feature2(row))"
   ]
  },
  {
   "cell_type": "code",
   "execution_count": 13,
   "metadata": {},
   "outputs": [
    {
     "data": {
      "text/plain": [
       "array([4.578143  , 0.16793392])"
      ]
     },
     "execution_count": 13,
     "metadata": {},
     "output_type": "execute_result"
    }
   ],
   "source": [
    "theta,residuals,rank,s = np.linalg.lstsq(X2, Y, rcond = -1)\n",
    "theta"
   ]
  },
  {
   "cell_type": "markdown",
   "metadata": {},
   "source": [
    "#### 5. Split the data into two fractions -\n",
    "The first 90% for training, and the remaining 10% testing (based on the order they appear in the file). Train the same model as in Question 4 on the training set only. What is the model’s MSE on the training and on the test set (1 mark)?"
   ]
  },
  {
   "cell_type": "markdown",
   "metadata": {},
   "source": [
    "Answer: <br>\n",
    "(1) <br>\n",
    "model’s MSE on the training set: 0.6554842196694356 <br>\n",
    "model’s MSE on the testing set: 0.9723851990304192 <br>"
   ]
  },
  {
   "cell_type": "code",
   "execution_count": 14,
   "metadata": {},
   "outputs": [
    {
     "data": {
      "text/plain": [
       "133479"
      ]
     },
     "execution_count": 14,
     "metadata": {},
     "output_type": "execute_result"
    }
   ],
   "source": [
    "numTraining = int(giftcard.shape[0] * 0.9)\n",
    "numTraining"
   ]
  },
  {
   "cell_type": "code",
   "execution_count": 15,
   "metadata": {},
   "outputs": [],
   "source": [
    "X3_training = X2[:numTraining]\n",
    "Y3_training = Y[:numTraining]\n",
    "X3_testing = X2[numTraining:]\n",
    "Y3_testing = Y[numTraining:]"
   ]
  },
  {
   "cell_type": "code",
   "execution_count": 16,
   "metadata": {},
   "outputs": [
    {
     "data": {
      "text/plain": [
       "array([4.43966713, 0.31636878])"
      ]
     },
     "execution_count": 16,
     "metadata": {},
     "output_type": "execute_result"
    }
   ],
   "source": [
    "theta,residuals,rank,s = np.linalg.lstsq(X3_training, Y3_training, rcond = -1)\n",
    "theta"
   ]
  },
  {
   "cell_type": "code",
   "execution_count": 17,
   "metadata": {},
   "outputs": [
    {
     "data": {
      "text/plain": [
       "0.9723851990304192"
      ]
     },
     "execution_count": 17,
     "metadata": {},
     "output_type": "execute_result"
    }
   ],
   "source": [
    "MSE_testing = mean_squared_error(np.dot(X3_testing, theta), Y3_testing)\n",
    "MSE_testing"
   ]
  },
  {
   "cell_type": "code",
   "execution_count": 18,
   "metadata": {},
   "outputs": [
    {
     "data": {
      "text/plain": [
       "0.6554842196694356"
      ]
     },
     "execution_count": 18,
     "metadata": {},
     "output_type": "execute_result"
    }
   ],
   "source": [
    "MSE_training = mean_squared_error(np.dot(X3_training, theta), Y3_training)\n",
    "MSE_training"
   ]
  },
  {
   "cell_type": "code",
   "execution_count": 19,
   "metadata": {},
   "outputs": [
    {
     "data": {
      "text/plain": [
       "0.6554842196684152"
      ]
     },
     "execution_count": 19,
     "metadata": {},
     "output_type": "execute_result"
    }
   ],
   "source": [
    "MSE_training_also = (residuals/len(X3_training))[0]\n",
    "MSE_training_also"
   ]
  },
  {
   "cell_type": "markdown",
   "metadata": {},
   "source": [
    "#### 7. Repeat the above experiment, varying the size of the training and test fractions between 5% and 95% for training (using the complement for testing).\n",
    "Show how the training and test error vary as a function of the training set size (again using a simple plot or table). Does the size of the training set make a significant difference in testing performance? Comment on why it might or might not make a significant difference in this instance"
   ]
  },
  {
   "cell_type": "markdown",
   "metadata": {},
   "source": [
    "Answer: <br>\n",
    "(1) <br>\n",
    "See below results <br>\n",
    "(2) <br>\n",
    "Yes, the testing MSE increases when the training set becomes larger. Which means, the model is overfitting to the training data. Even worse, testing MSE increases steeply when the training set fraction is 90% or higher. The reason, when the fraction of training set going higher, θ0 increases gradually, and θ1 decreases gradually. That means, when the fraction of training set going higher, the contribution of verified review or not decrease, which leads to a higher Testing MSE. <br>"
   ]
  },
  {
   "cell_type": "code",
   "execution_count": 20,
   "metadata": {},
   "outputs": [],
   "source": [
    "numData = len(X2)\n",
    "sizeTrainings = list(range(5,100,5))\n",
    "sizeTrainings = [int((i/100.0)*numData) for i in sizeTrainings]\n",
    "#sizeTrainings"
   ]
  },
  {
   "cell_type": "code",
   "execution_count": 24,
   "metadata": {},
   "outputs": [],
   "source": [
    "def trainAndGetMSE(X_train,Y_train,X_test,Y_test):\n",
    "    theta,residuals,rank,s = np.linalg.lstsq(X_train, Y_train, rcond = -1)\n",
    "    MSE_testing = mean_squared_error(np.dot(X_test, theta), Y_test)\n",
    "    MSE_training = mean_squared_error(np.dot(X_train, theta), Y_train)\n",
    "    print(\"Theta: \", theta)\n",
    "    return [MSE_training, MSE_testing]"
   ]
  },
  {
   "cell_type": "code",
   "execution_count": 25,
   "metadata": {},
   "outputs": [
    {
     "name": "stdout",
     "output_type": "stream",
     "text": [
      "Theta:  [4.24159021 0.51588721]\n",
      "[7415, 0.6991258353981049, 0.6952705576107316]\n",
      "Theta:  [4.1803005  0.56899686]\n",
      "[14831, 0.7242950926768602, 0.6965294073972426]\n",
      "Theta:  [4.16703297 0.59618413]\n",
      "[22246, 0.6838255761671171, 0.7034504715834934]\n",
      "Theta:  [4.25661376 0.52521462]\n",
      "[29662, 0.6213480287428242, 0.7142163478745156]\n",
      "Theta:  [4.31202435 0.47465462]\n",
      "[37077, 0.5975576199928244, 0.7249758562689976]\n",
      "Theta:  [4.31658291 0.47085794]\n",
      "[44493, 0.5893312508083904, 0.7373830403454477]\n",
      "Theta:  [4.2991008  0.48935185]\n",
      "[51908, 0.5954097358531418, 0.7468932637705544]\n",
      "Theta:  [4.3131822  0.47639316]\n",
      "[59324, 0.5882114828916921, 0.7633422480646901]\n",
      "Theta:  [4.32280167 0.46973326]\n",
      "[66739, 0.5746830399228277, 0.7899732480702686]\n",
      "Theta:  [4.33251058 0.45547018]\n",
      "[74155, 0.5840266958976305, 0.8005718329830424]\n",
      "Theta:  [4.3314013  0.45118197]\n",
      "[81570, 0.5951416449278529, 0.8102944994225497]\n",
      "Theta:  [4.33538362 0.43890419]\n",
      "[88986, 0.611561758334758, 0.8109080750516805]\n",
      "Theta:  [4.31418919 0.45098339]\n",
      "[96401, 0.637754839786203, 0.7923104272923431]\n",
      "Theta:  [4.32036546 0.44181291]\n",
      "[103817, 0.6395471705788114, 0.8126258423697607]\n",
      "Theta:  [4.32128071 0.43917613]\n",
      "[111232, 0.6406638844874734, 0.8435318141983914]\n",
      "Theta:  [4.35624395 0.40499465]\n",
      "[118648, 0.6374266302211349, 0.8999584744494392]\n",
      "Theta:  [4.35999173 0.39969282]\n",
      "[126063, 0.6431389443127348, 0.9538551400386313]\n",
      "Theta:  [4.43966713 0.31636878]\n",
      "[133479, 0.6554842196694356, 0.9723851990304192]\n",
      "Theta:  [4.59665236 0.15840784]\n",
      "[140894, 0.6549506016844829, 1.2659774035277296]\n"
     ]
    }
   ],
   "source": [
    "resultsTrainTestMSE = []\n",
    "resultsTrainMSE = []\n",
    "resultsTestMSE = []\n",
    "for numTraining in sizeTrainings:\n",
    "    X_training = X2[:numTraining]\n",
    "    Y_training = Y[:numTraining]\n",
    "    X_testing = X2[numTraining:]\n",
    "    Y_testing = Y[numTraining:]\n",
    "    trainMSE, testMSE = trainAndGetMSE(X_training,Y_training,X_testing,Y_testing)\n",
    "    print([numTraining,trainMSE,testMSE])\n",
    "    resultsTrainTestMSE.append([numTraining,trainMSE,testMSE])\n",
    "    resultsTrainMSE.append(trainMSE)\n",
    "    resultsTestMSE.append(testMSE)\n",
    "    \n",
    "#print(resultsTrainTestMSE)"
   ]
  },
  {
   "cell_type": "code",
   "execution_count": 26,
   "metadata": {},
   "outputs": [
    {
     "data": {
      "text/plain": [
       "[<matplotlib.lines.Line2D at 0x11c53fb50>]"
      ]
     },
     "execution_count": 26,
     "metadata": {},
     "output_type": "execute_result"
    },
    {
     "data": {
      "image/png": "[encoded data removed]",
      "text/plain": [
       "<Figure size 432x288 with 1 Axes>"
      ]
     },
     "metadata": {
      "needs_background": "light"
     },
     "output_type": "display_data"
    }
   ],
   "source": [
    "plt.plot(sizeTrainings, resultsTrainMSE)"
   ]
  },
  {
   "cell_type": "code",
   "execution_count": 27,
   "metadata": {},
   "outputs": [
    {
     "data": {
      "text/plain": [
       "[<matplotlib.lines.Line2D at 0x118faf910>]"
      ]
     },
     "execution_count": 27,
     "metadata": {},
     "output_type": "execute_result"
    },
    {
     "data": {
      "image/png": "[encoded data removed]",
      "text/plain": [
       "<Figure size 432x288 with 1 Axes>"
      ]
     },
     "metadata": {
      "needs_background": "light"
     },
     "output_type": "display_data"
    }
   ],
   "source": [
    "plt.plot(sizeTrainings, resultsTestMSE)"
   ]
  },
  {
   "cell_type": "markdown",
   "metadata": {},
   "source": [
    "## Tasks — Classification (week 2):\n",
    "In this question we’ll alter the prediction from our regression task, so that we are now classifying whether a review is verified. Continue using the 90%/10% training and test sets you constructed previously, i.e., train on the training set and report the error/accuracy on the testing set.\n"
   ]
  },
  {
   "cell_type": "markdown",
   "metadata": {},
   "source": [
    "#### 8. First, let’s train a predictor that estimates whether a review is verified using the rating and the length: p(review is verified) ≃ σ(θ0 + θ1 × [star rating] + θ2 × [review length])\n",
    "Train a logistic regressor to make the above prediction (you may use a logistic regression library with de- fault parameters, e.g. linear model.LogisticRegression() from sklearn). Report the classification accuracy of this predictor. Report also the proportion of labels that are positive (i.e., the proportion of reviews that are verified) and the proportion of predictions that are positive (1 mark)."
   ]
  },
  {
   "cell_type": "markdown",
   "metadata": {},
   "source": [
    "Answer: <br>\n",
    "(1) <br>\n",
    "classification accuracy of testing set: 0.5597734475085968 <br>\n",
    "classification accuracy of training set: 0.9511683485791772 <br>\n",
    "(2) <br>\n",
    "propotion of labels in testing set that are positive: 0.5595711684984155 <br>\n",
    "propotion of labels in training set that are positive: 0.9513856112197424 <br>\n",
    "(3) <br>\n",
    "propotion of predictions of testing set that are positive: 0.9989886049490931 <br>\n",
    "propotion of predictions of training set that are positive: 0.9996478846859805 <br>"
   ]
  },
  {
   "cell_type": "code",
   "execution_count": 28,
   "metadata": {},
   "outputs": [],
   "source": [
    "def feature4(row):\n",
    "    feat = [1]\n",
    "    feat.append(row['star_rating'])\n",
    "    feat.append(len(str(row['review_body'])))\n",
    "    return feat\n",
    "\n",
    "X4 = []\n",
    "\n",
    "for index, row in giftcard.iterrows():\n",
    "    X4.append(feature4(row))"
   ]
  },
  {
   "cell_type": "code",
   "execution_count": 29,
   "metadata": {},
   "outputs": [],
   "source": [
    "def feature5(row):\n",
    "    if row['verified_purchase'] == 'Y':\n",
    "        return 1\n",
    "    else:\n",
    "        return 0\n",
    "\n",
    "Y4 = []\n",
    "\n",
    "for index, row in giftcard.iterrows():\n",
    "    Y4.append(feature5(row))"
   ]
  },
  {
   "cell_type": "code",
   "execution_count": 30,
   "metadata": {},
   "outputs": [],
   "source": [
    "numTraining = int(giftcard.shape[0] * 0.9)\n",
    "\n",
    "X4_train = X4[:numTraining]\n",
    "Y4_train = Y4[:numTraining]\n",
    "X4_test = X4[numTraining:]\n",
    "Y4_test = Y4[numTraining:]"
   ]
  },
  {
   "cell_type": "code",
   "execution_count": 31,
   "metadata": {},
   "outputs": [
    {
     "name": "stderr",
     "output_type": "stream",
     "text": [
      "/usr/local/lib/python3.7/site-packages/sklearn/linear_model/logistic.py:432: FutureWarning: Default solver will be changed to 'lbfgs' in 0.22. Specify a solver to silence this warning.\n",
      "  FutureWarning)\n"
     ]
    },
    {
     "data": {
      "text/plain": [
       "LogisticRegression(C=1.0, class_weight=None, dual=False, fit_intercept=True,\n",
       "                   intercept_scaling=1, l1_ratio=None, max_iter=100,\n",
       "                   multi_class='warn', n_jobs=None, penalty='l2',\n",
       "                   random_state=None, solver='warn', tol=0.0001, verbose=0,\n",
       "                   warm_start=False)"
      ]
     },
     "execution_count": 31,
     "metadata": {},
     "output_type": "execute_result"
    }
   ],
   "source": [
    "model = linear_model.LogisticRegression()\n",
    "model.fit(X4_train, Y4_train)"
   ]
  },
  {
   "cell_type": "code",
   "execution_count": 32,
   "metadata": {},
   "outputs": [],
   "source": [
    "train_predictions = model.predict(X4_train)\n",
    "test_predictions = model.predict(X4_test)"
   ]
  },
  {
   "cell_type": "code",
   "execution_count": 33,
   "metadata": {},
   "outputs": [
    {
     "data": {
      "text/plain": [
       "0.5597734475085968"
      ]
     },
     "execution_count": 33,
     "metadata": {},
     "output_type": "execute_result"
    }
   ],
   "source": [
    "# Accuracy from testing set\n",
    "sum(test_predictions == Y4_test) / len(Y4_test)"
   ]
  },
  {
   "cell_type": "code",
   "execution_count": 34,
   "metadata": {},
   "outputs": [
    {
     "data": {
      "text/plain": [
       "0.9511683485791772"
      ]
     },
     "execution_count": 34,
     "metadata": {},
     "output_type": "execute_result"
    }
   ],
   "source": [
    "# Accuracy from training set\n",
    "sum(train_predictions == Y4_train) / len(Y4_train)"
   ]
  },
  {
   "cell_type": "code",
   "execution_count": 35,
   "metadata": {},
   "outputs": [
    {
     "data": {
      "text/plain": [
       "0.9122041669476098"
      ]
     },
     "execution_count": 35,
     "metadata": {},
     "output_type": "execute_result"
    }
   ],
   "source": [
    "# Proportion of labels that are positive\n",
    "sum(Y4) / len(Y4)"
   ]
  },
  {
   "cell_type": "code",
   "execution_count": 36,
   "metadata": {},
   "outputs": [
    {
     "data": {
      "text/plain": [
       "0.9513856112197424"
      ]
     },
     "execution_count": 36,
     "metadata": {},
     "output_type": "execute_result"
    }
   ],
   "source": [
    "# Proportion of labels that are positive in training set \n",
    "sum(Y4_train) / len(Y4_train)"
   ]
  },
  {
   "cell_type": "code",
   "execution_count": 39,
   "metadata": {},
   "outputs": [
    {
     "data": {
      "text/plain": [
       "0.9996478846859805"
      ]
     },
     "execution_count": 39,
     "metadata": {},
     "output_type": "execute_result"
    }
   ],
   "source": [
    "# Proportion of predictions that are positive in training set \n",
    "sum(train_predictions) / len(train_predictions)"
   ]
  },
  {
   "cell_type": "code",
   "execution_count": 37,
   "metadata": {},
   "outputs": [
    {
     "data": {
      "text/plain": [
       "0.5595711684984155"
      ]
     },
     "execution_count": 37,
     "metadata": {},
     "output_type": "execute_result"
    }
   ],
   "source": [
    "# Proportion of labels that are positive in testing set \n",
    "sum(Y4_test) / len(Y4_test)"
   ]
  },
  {
   "cell_type": "code",
   "execution_count": 38,
   "metadata": {},
   "outputs": [
    {
     "data": {
      "text/plain": [
       "0.9989886049490931"
      ]
     },
     "execution_count": 38,
     "metadata": {},
     "output_type": "execute_result"
    }
   ],
   "source": [
    "# Proportion of predictions that are positive in testing set \n",
    "sum(test_predictions) / len(test_predictions)"
   ]
  },
  {
   "cell_type": "markdown",
   "metadata": {},
   "source": [
    "#### 9. Considering same prediction problem as above, can you come up with a more accurate predictor (e.g. using features from the text, timestamp, etc.)? Write down the feature vector you design, and report its train/test accuracy"
   ]
  },
  {
   "cell_type": "markdown",
   "metadata": {},
   "source": [
    "Answer: <br>\n",
    "From Q8, we aware that the propotion of positive labels in testing set and training set have significant difference. Say, 56% positive labels in testing set and 95% positive labels in training set. Hence, the label balances in training/testing have huge difference. As a result, we propose to shuffle the whole dataset in advance, and then separate the data into training and testing with the same propotion 90%/10%. <br>\n",
    "\n",
    "Based on our new training/testing data set, the accuracy for testing set is 91.16% and accuracy of training set is 91.04% <br>\n",
    "\n",
    "Also, on the top of data shuffling, we add features 'total_votes', because we think that the more 'total_votes' can help explain that the review is verified. By adding the feature 'total_votes', we are able to improve our testing accuracy to 91.44% and the accuracy of training set is 91.19%."
   ]
  },
  {
   "cell_type": "code",
   "execution_count": 42,
   "metadata": {},
   "outputs": [],
   "source": [
    "XY5 = list(zip(X4,Y4))\n",
    "random.shuffle(XY5)"
   ]
  },
  {
   "cell_type": "code",
   "execution_count": 43,
   "metadata": {},
   "outputs": [],
   "source": [
    "X5 = [d[0] for d in XY5]\n",
    "Y5 = [d[1] for d in XY5]"
   ]
  },
  {
   "cell_type": "code",
   "execution_count": 44,
   "metadata": {},
   "outputs": [],
   "source": [
    "numTraining = int(giftcard.shape[0] * 0.9)\n",
    "\n",
    "X5_train = X5[:numTraining]\n",
    "Y5_train = Y5[:numTraining]\n",
    "X5_test = X5[numTraining:]\n",
    "Y5_test = Y5[numTraining:]"
   ]
  },
  {
   "cell_type": "code",
   "execution_count": 45,
   "metadata": {},
   "outputs": [
    {
     "name": "stderr",
     "output_type": "stream",
     "text": [
      "/usr/local/lib/python3.7/site-packages/sklearn/linear_model/logistic.py:432: FutureWarning: Default solver will be changed to 'lbfgs' in 0.22. Specify a solver to silence this warning.\n",
      "  FutureWarning)\n"
     ]
    }
   ],
   "source": [
    "model = linear_model.LogisticRegression()\n",
    "model.fit(X5_train, Y5_train)\n",
    "\n",
    "train_predictions = model.predict(X5_train)\n",
    "test_predictions = model.predict(X5_test)"
   ]
  },
  {
   "cell_type": "code",
   "execution_count": 46,
   "metadata": {},
   "outputs": [
    {
     "data": {
      "text/plain": [
       "0.9116040725507383"
      ]
     },
     "execution_count": 46,
     "metadata": {},
     "output_type": "execute_result"
    }
   ],
   "source": [
    "# Accuracy from testing set\n",
    "sum(test_predictions == Y5_test) / len(Y5_test)"
   ]
  },
  {
   "cell_type": "code",
   "execution_count": 47,
   "metadata": {},
   "outputs": [
    {
     "data": {
      "text/plain": [
       "0.9104353493808015"
      ]
     },
     "execution_count": 47,
     "metadata": {},
     "output_type": "execute_result"
    }
   ],
   "source": [
    "# Accuracy from training set\n",
    "sum(train_predictions == Y5_train) / len(Y5_train)"
   ]
  },
  {
   "cell_type": "code",
   "execution_count": 67,
   "metadata": {},
   "outputs": [],
   "source": [
    "def feature6(row):\n",
    "    feat = [1]\n",
    "    feat.append(row['star_rating'])\n",
    "    feat.append(row['total_votes'])\n",
    "    return feat\n",
    "\n",
    "X6 = []\n",
    "Y6 = Y4\n",
    "\n",
    "for index, row in giftcard.iterrows():\n",
    "    X6.append(feature6(row))"
   ]
  },
  {
   "cell_type": "code",
   "execution_count": 68,
   "metadata": {},
   "outputs": [],
   "source": [
    "XY6 = list(zip(X6,Y6))\n",
    "random.shuffle(XY6)\n",
    "X6 = [d[0] for d in XY6]\n",
    "Y6 = [d[1] for d in XY6]"
   ]
  },
  {
   "cell_type": "code",
   "execution_count": 69,
   "metadata": {},
   "outputs": [],
   "source": [
    "numTraining = int(giftcard.shape[0] * 0.9)\n",
    "\n",
    "X6_train = X6[:numTraining]\n",
    "Y6_train = Y6[:numTraining]\n",
    "X6_test = X6[numTraining:]\n",
    "Y6_test = Y6[numTraining:]"
   ]
  },
  {
   "cell_type": "code",
   "execution_count": 70,
   "metadata": {},
   "outputs": [
    {
     "name": "stderr",
     "output_type": "stream",
     "text": [
      "/usr/local/lib/python3.7/site-packages/sklearn/linear_model/logistic.py:432: FutureWarning: Default solver will be changed to 'lbfgs' in 0.22. Specify a solver to silence this warning.\n",
      "  FutureWarning)\n"
     ]
    }
   ],
   "source": [
    "model = linear_model.LogisticRegression()\n",
    "model.fit(X6_train, Y6_train)\n",
    "\n",
    "train_predictions = model.predict(X6_train)\n",
    "test_predictions = model.predict(X6_test)"
   ]
  },
  {
   "cell_type": "code",
   "execution_count": 71,
   "metadata": {},
   "outputs": [
    {
     "data": {
      "text/plain": [
       "0.9143685523565505"
      ]
     },
     "execution_count": 71,
     "metadata": {},
     "output_type": "execute_result"
    }
   ],
   "source": [
    "# Accuracy from testing set\n",
    "sum(test_predictions == Y6_test) / len(Y6_test)"
   ]
  },
  {
   "cell_type": "code",
   "execution_count": 72,
   "metadata": {},
   "outputs": [
    {
     "data": {
      "text/plain": [
       "0.9119561878647577"
      ]
     },
     "execution_count": 72,
     "metadata": {},
     "output_type": "execute_result"
    }
   ],
   "source": [
    "# Accuracy from training set\n",
    "sum(train_predictions == Y6_train) / len(Y6_train)"
   ]
  }
 ],
 "metadata": {
  "kernelspec": {
   "display_name": "Python 3",
   "language": "python",
   "name": "python3"
  },
  "language_info": {
   "codemirror_mode": {
    "name": "ipython",
    "version": 3
   },
   "file_extension": ".py",
   "mimetype": "text/x-python",
   "name": "python",
   "nbconvert_exporter": "python",
   "pygments_lexer": "ipython3",
   "version": "3.7.4"
  }
 },
 "nbformat": 4,
 "nbformat_minor": 4
}
