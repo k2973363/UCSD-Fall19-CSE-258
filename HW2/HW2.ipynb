{
 "cells": [
  {
   "cell_type": "code",
   "execution_count": 1,
   "metadata": {},
   "outputs": [],
   "source": [
    "import numpy\n",
    "import urllib\n",
    "import scipy.optimize\n",
    "import random\n",
    "import numpy as np\n",
    "from matplotlib import pyplot as plt\n",
    "from sklearn import svm # Library for SVM classification\n",
    "from sklearn import linear_model # Logistic Regression (among other things)\n",
    "from sklearn.decomposition import PCA # PCA library"
   ]
  },
  {
   "cell_type": "markdown",
   "metadata": {},
   "source": [
    "### Tasks — Diagnostics (week 2):"
   ]
  },
  {
   "cell_type": "code",
   "execution_count": 2,
   "metadata": {},
   "outputs": [],
   "source": [
    "f = open(\"5year.arff\", 'r')"
   ]
  },
  {
   "cell_type": "code",
   "execution_count": 3,
   "metadata": {},
   "outputs": [],
   "source": [
    "# Skip the non-data parts\n",
    "while not '@data' in f.readline():\n",
    "    pass"
   ]
  },
  {
   "cell_type": "code",
   "execution_count": 4,
   "metadata": {},
   "outputs": [],
   "source": [
    "# Read the data\n",
    "dataset = []\n",
    "for l in f:\n",
    "    if '?' in l:\n",
    "        continue\n",
    "    l = l.split(',')\n",
    "    values = [1] + [float(x) for x in l]\n",
    "    values[-1] = values[-1] > 0 # Convert from {0,1} to {false,true}\n",
    "    dataset.append(values)"
   ]
  },
  {
   "cell_type": "markdown",
   "metadata": {},
   "source": [
    "#### 1. Report the accuracy and Balanced Error Rate (BER) of your classifier.\n",
    "Answer: <br>\n",
    "(1) Accurarcy: 0.9663477400197954 <br>\n",
    "(2) BER: 0.48580623782459387 <br>"
   ]
  },
  {
   "cell_type": "code",
   "execution_count": 5,
   "metadata": {},
   "outputs": [],
   "source": [
    "# Prepare the data\n",
    "X = [d[:-1] for d in dataset]\n",
    "Y = [d[-1] for d in dataset]"
   ]
  },
  {
   "cell_type": "code",
   "execution_count": 6,
   "metadata": {},
   "outputs": [
    {
     "name": "stderr",
     "output_type": "stream",
     "text": [
      "C:\\Users\\CK-Lab\\Anaconda3\\lib\\site-packages\\sklearn\\linear_model\\logistic.py:432: FutureWarning: Default solver will be changed to 'lbfgs' in 0.22. Specify a solver to silence this warning.\n",
      "  FutureWarning)\n",
      "C:\\Users\\CK-Lab\\Anaconda3\\lib\\site-packages\\sklearn\\svm\\base.py:929: ConvergenceWarning: Liblinear failed to converge, increase the number of iterations.\n",
      "  \"the number of iterations.\", ConvergenceWarning)\n"
     ]
    },
    {
     "data": {
      "text/plain": [
       "LogisticRegression(C=1.0, class_weight=None, dual=False, fit_intercept=True,\n",
       "                   intercept_scaling=1, l1_ratio=None, max_iter=100,\n",
       "                   multi_class='warn', n_jobs=None, penalty='l2',\n",
       "                   random_state=None, solver='warn', tol=0.0001, verbose=0,\n",
       "                   warm_start=False)"
      ]
     },
     "execution_count": 6,
     "metadata": {},
     "output_type": "execute_result"
    }
   ],
   "source": [
    "model = linear_model.LogisticRegression(C=1.0)\n",
    "model.fit(X,Y)"
   ]
  },
  {
   "cell_type": "code",
   "execution_count": 7,
   "metadata": {},
   "outputs": [],
   "source": [
    "pred = model.predict(X)"
   ]
  },
  {
   "cell_type": "code",
   "execution_count": 8,
   "metadata": {},
   "outputs": [
    {
     "data": {
      "text/plain": [
       "0.9663477400197954"
      ]
     },
     "execution_count": 8,
     "metadata": {},
     "output_type": "execute_result"
    }
   ],
   "source": [
    "# Accurarcy\n",
    "sum(pred == Y) / len(Y)"
   ]
  },
  {
   "cell_type": "code",
   "execution_count": 9,
   "metadata": {},
   "outputs": [],
   "source": [
    "def getBER(pred, answer):\n",
    "    TP_ = numpy.logical_and(pred, answer)\n",
    "    FP_ = numpy.logical_and(pred, numpy.logical_not(answer))\n",
    "    TN_ = numpy.logical_and(numpy.logical_not(pred), numpy.logical_not(answer))\n",
    "    FN_ = numpy.logical_and(numpy.logical_not(pred), answer)\n",
    "    \n",
    "    TP = sum(TP_)\n",
    "    FP = sum(FP_)\n",
    "    TN = sum(TN_)\n",
    "    FN = sum(FN_)\n",
    "    \n",
    "    return (1 - 0.5 * (TP / (TP + FN) + TN / (TN + FP)))"
   ]
  },
  {
   "cell_type": "code",
   "execution_count": 10,
   "metadata": {},
   "outputs": [
    {
     "data": {
      "text/plain": [
       "0.48580623782459387"
      ]
     },
     "execution_count": 10,
     "metadata": {},
     "output_type": "execute_result"
    }
   ],
   "source": [
    "# BER\n",
    "getBER(pred,Y)"
   ]
  },
  {
   "cell_type": "markdown",
   "metadata": {},
   "source": [
    "### 3. Shuffle the data, and split it into training, validation, and test splits, with a 50/25/25% ratio.\n",
    "Using the class weight=’balanced’ option, and training on the training set, report the training/validation/test\n",
    "accuracy and BER.\n",
    "\n",
    "Answer: <br>\n",
    "(1) Accurarcy: <br>\n",
    "Training set accurarcy: 0.860818 <br>\n",
    "Validation set accurarcy: 0.840369 <br>\n",
    "Testing set accurarcy: 0.834875 <br>\n",
    "(2) BER: <br>\n",
    "Training set BER: 0.121197 <br>\n",
    "Validation set BER: 0.158785 <br>\n",
    "Testing set BER: 0.206173 <br>"
   ]
  },
  {
   "cell_type": "code",
   "execution_count": 243,
   "metadata": {},
   "outputs": [],
   "source": [
    "random.shuffle(dataset)"
   ]
  },
  {
   "cell_type": "code",
   "execution_count": 244,
   "metadata": {},
   "outputs": [
    {
     "name": "stdout",
     "output_type": "stream",
     "text": [
      "# training: 1516\n",
      "# validation: 758\n",
      "# testing: 757\n"
     ]
    }
   ],
   "source": [
    "numTrain = round(len(dataset) * 0.5)\n",
    "numValid = round(len(dataset) * 0.25)\n",
    "numTest = len(dataset) - numTrain - numValid\n",
    "print(\"# training: %d\" % (numTrain))\n",
    "print(\"# validation: %d\" % (numValid))\n",
    "print(\"# testing: %d\" % (numTest))"
   ]
  },
  {
   "cell_type": "code",
   "execution_count": 245,
   "metadata": {},
   "outputs": [],
   "source": [
    "X = [d[:-1] for d in dataset]\n",
    "Y = [d[-1] for d in dataset]"
   ]
  },
  {
   "cell_type": "code",
   "execution_count": 246,
   "metadata": {},
   "outputs": [],
   "source": [
    "XTrain = X[:numTrain]\n",
    "XValid = X[numTrain:numTrain+numValid]\n",
    "XTest = X[numTrain+numValid:]"
   ]
  },
  {
   "cell_type": "code",
   "execution_count": 247,
   "metadata": {},
   "outputs": [],
   "source": [
    "YTrain = Y[:numTrain]\n",
    "YValid = Y[numTrain:numTrain+numValid]\n",
    "YTest = Y[numTrain+numValid:]"
   ]
  },
  {
   "cell_type": "code",
   "execution_count": 248,
   "metadata": {},
   "outputs": [
    {
     "name": "stderr",
     "output_type": "stream",
     "text": [
      "C:\\Users\\CK-Lab\\Anaconda3\\lib\\site-packages\\sklearn\\linear_model\\logistic.py:432: FutureWarning: Default solver will be changed to 'lbfgs' in 0.22. Specify a solver to silence this warning.\n",
      "  FutureWarning)\n"
     ]
    },
    {
     "data": {
      "text/plain": [
       "LogisticRegression(C=1.0, class_weight='balanced', dual=False,\n",
       "                   fit_intercept=True, intercept_scaling=1, l1_ratio=None,\n",
       "                   max_iter=1000000, multi_class='warn', n_jobs=None,\n",
       "                   penalty='l2', random_state=None, solver='warn', tol=0.0001,\n",
       "                   verbose=0, warm_start=False)"
      ]
     },
     "execution_count": 248,
     "metadata": {},
     "output_type": "execute_result"
    }
   ],
   "source": [
    "model = linear_model.LogisticRegression(C=1.0, max_iter=1000000, class_weight='balanced')\n",
    "model.fit(XTrain,YTrain)"
   ]
  },
  {
   "cell_type": "code",
   "execution_count": 249,
   "metadata": {},
   "outputs": [],
   "source": [
    "predTrain = model.predict(XTrain)\n",
    "predValid = model.predict(XValid)\n",
    "predTest = model.predict(XTest)"
   ]
  },
  {
   "cell_type": "code",
   "execution_count": 250,
   "metadata": {},
   "outputs": [
    {
     "name": "stdout",
     "output_type": "stream",
     "text": [
      "Training set accurarcy: 0.860818\n",
      "Validation set accurarcy: 0.840369\n",
      "Testing set accurarcy: 0.834875\n"
     ]
    }
   ],
   "source": [
    "# Accurarcy\n",
    "print(\"Training set accurarcy: %f\" % (sum(predTrain == YTrain) / len(YTrain)))\n",
    "print(\"Validation set accurarcy: %f\" % (sum(predValid == YValid) / len(YValid)))\n",
    "print(\"Testing set accurarcy: %f\" % (sum(predTest == YTest) / len(YTest)))"
   ]
  },
  {
   "cell_type": "code",
   "execution_count": 251,
   "metadata": {},
   "outputs": [
    {
     "name": "stdout",
     "output_type": "stream",
     "text": [
      "Training set BER: 0.121197\n",
      "Validation set BER: 0.158785\n",
      "Testing set BER: 0.206173\n"
     ]
    }
   ],
   "source": [
    "# BERs\n",
    "print(\"Training set BER: %f\" % (getBER(predTrain,YTrain)))\n",
    "print(\"Validation set BER: %f\" % (getBER(predValid,YValid)))\n",
    "print(\"Testing set BER: %f\" % (getBER(predTest,YTest)))"
   ]
  },
  {
   "cell_type": "markdown",
   "metadata": {},
   "source": [
    "### 4. Implement a complete regularization pipeline with the balanced classifier.\n",
    "Consider values of C in the range {10−4, 10−3, . . . , 103, 104}. Report (or plot) the train, validation, and test BER for each value of C. Based on these values, which classifier would you select (in terms of generalization performance) and why?\n",
    "\n",
    "Answer: <br>\n",
    "(1) BERs: <br>\n",
    "See below images and data <br>\n",
    "(2) <br>\n",
    "We would like to pick the classifier (with chosen C) that generalizes the best. One common strategy would be picking one with the best performance on the validation set. The test set only serves for reporting purpose (on how good our strategy on selecting the model, how it performs on unseen data, etc.) so we can't use them when we decide the model (else we can always pick one with the lowest BER directly). Hence, in the below classifiers, we would choose the classifier with the best BER in validation set. The best classifier is the one with C=1000, where it has the lowest BER on validation set. Fortunately, the classifier with C=1000, also provides a competent BER on test set, which can also prove that we select the correct classifier with good strategy."
   ]
  },
  {
   "cell_type": "code",
   "execution_count": 201,
   "metadata": {},
   "outputs": [],
   "source": [
    "def getBerByGiven(_C):\n",
    "    model = linear_model.LogisticRegression(C=_C, max_iter=1000000, class_weight='balanced')\n",
    "    model.fit(XTrain,YTrain)\n",
    "    \n",
    "    predTrain = model.predict(XTrain)\n",
    "    predValid = model.predict(XValid)\n",
    "    predTest = model.predict(XTest)\n",
    "    \n",
    "    return getBER(predTrain,YTrain), getBER(predValid,YValid), getBER(predTest,YTest)"
   ]
  },
  {
   "cell_type": "code",
   "execution_count": 202,
   "metadata": {},
   "outputs": [
    {
     "name": "stderr",
     "output_type": "stream",
     "text": [
      "C:\\Users\\CK-Lab\\Anaconda3\\lib\\site-packages\\sklearn\\linear_model\\logistic.py:432: FutureWarning: Default solver will be changed to 'lbfgs' in 0.22. Specify a solver to silence this warning.\n",
      "  FutureWarning)\n",
      "C:\\Users\\CK-Lab\\Anaconda3\\lib\\site-packages\\sklearn\\linear_model\\logistic.py:432: FutureWarning: Default solver will be changed to 'lbfgs' in 0.22. Specify a solver to silence this warning.\n",
      "  FutureWarning)\n",
      "C:\\Users\\CK-Lab\\Anaconda3\\lib\\site-packages\\sklearn\\linear_model\\logistic.py:432: FutureWarning: Default solver will be changed to 'lbfgs' in 0.22. Specify a solver to silence this warning.\n",
      "  FutureWarning)\n",
      "C:\\Users\\CK-Lab\\Anaconda3\\lib\\site-packages\\sklearn\\linear_model\\logistic.py:432: FutureWarning: Default solver will be changed to 'lbfgs' in 0.22. Specify a solver to silence this warning.\n",
      "  FutureWarning)\n",
      "C:\\Users\\CK-Lab\\Anaconda3\\lib\\site-packages\\sklearn\\linear_model\\logistic.py:432: FutureWarning: Default solver will be changed to 'lbfgs' in 0.22. Specify a solver to silence this warning.\n",
      "  FutureWarning)\n",
      "C:\\Users\\CK-Lab\\Anaconda3\\lib\\site-packages\\sklearn\\linear_model\\logistic.py:432: FutureWarning: Default solver will be changed to 'lbfgs' in 0.22. Specify a solver to silence this warning.\n",
      "  FutureWarning)\n",
      "C:\\Users\\CK-Lab\\Anaconda3\\lib\\site-packages\\sklearn\\linear_model\\logistic.py:432: FutureWarning: Default solver will be changed to 'lbfgs' in 0.22. Specify a solver to silence this warning.\n",
      "  FutureWarning)\n",
      "C:\\Users\\CK-Lab\\Anaconda3\\lib\\site-packages\\sklearn\\linear_model\\logistic.py:432: FutureWarning: Default solver will be changed to 'lbfgs' in 0.22. Specify a solver to silence this warning.\n",
      "  FutureWarning)\n",
      "C:\\Users\\CK-Lab\\Anaconda3\\lib\\site-packages\\sklearn\\linear_model\\logistic.py:432: FutureWarning: Default solver will be changed to 'lbfgs' in 0.22. Specify a solver to silence this warning.\n",
      "  FutureWarning)\n"
     ]
    }
   ],
   "source": [
    "exps = range(-4,5)\n",
    "trainBERs = []\n",
    "validBERs = []\n",
    "testBERs = []\n",
    "\n",
    "for exp in exps:\n",
    "    C = pow(10, exp)\n",
    "    trainBER, validBER, testBER = getBerByGiven(C)\n",
    "    trainBERs.append(trainBER)\n",
    "    validBERs.append(validBER)\n",
    "    testBERs.append(testBER)"
   ]
  },
  {
   "cell_type": "code",
   "execution_count": 203,
   "metadata": {},
   "outputs": [
    {
     "data": {
      "image/png": "[encoded data removed]",
      "text/plain": [
       "<Figure size 432x288 with 1 Axes>"
      ]
     },
     "metadata": {
      "needs_background": "light"
     },
     "output_type": "display_data"
    }
   ],
   "source": [
    "plt.plot(exps, trainBERs, 'o-', color='r', label = 'Training BER')\n",
    "plt.plot(exps, validBERs, 'o-', color='b', label = 'Validation BER')\n",
    "plt.plot(exps, testBERs, 'o-', color='g', label = 'Testing BER')\n",
    "\n",
    "plt.legend()\n",
    "plt.ylabel('BERs')\n",
    "plt.xlabel('Regularization Coefficient C (in the 10\\'s exp)')\n",
    "plt.show()"
   ]
  },
  {
   "cell_type": "code",
   "execution_count": 204,
   "metadata": {},
   "outputs": [
    {
     "name": "stdout",
     "output_type": "stream",
     "text": [
      "C=0.000100, training BER:0.257419, validation BER:0.227371, testing BER:0.282283\n",
      "C=0.001000, training BER:0.185981, validation BER:0.259079, testing BER:0.247542\n",
      "C=0.010000, training BER:0.170300, validation BER:0.226626, testing BER:0.227165\n",
      "C=0.100000, training BER:0.128166, validation BER:0.223238, testing BER:0.174831\n",
      "C=1.000000, training BER:0.113171, validation BER:0.188753, testing BER:0.170744\n",
      "C=10.000000, training BER:0.117527, validation BER:0.179946, testing BER:0.161207\n",
      "C=100.000000, training BER:0.124629, validation BER:0.204946, testing BER:0.159845\n",
      "C=1000.000000, training BER:0.120959, validation BER:0.179268, testing BER:0.162570\n",
      "C=10000.000000, training BER:0.120616, validation BER:0.181301, testing BER:0.162570\n"
     ]
    }
   ],
   "source": [
    "for i in range(len(exps)):\n",
    "    print(\"C=%f, training BER:%f, validation BER:%f, testing BER:%f\" % (pow(10,exps[i]),trainBERs[i], validBERs[i], testBERs[i]))"
   ]
  },
  {
   "cell_type": "markdown",
   "metadata": {},
   "source": [
    "#### 6. (CSE258 only) The sample weight option allows you to manually build a balanced (or imbalanced) classifier by assigning different weights to each datapoint (i.e., each label y in the training set).\n",
    "\n",
    "Answer: <br>\n",
    "(1) Sample code: <br>\n",
    "Testing Set: Precision=0.166667, Recall=0.043478 <br>\n",
    "Testing Set: F1=0.068966, F10=0.043799 <br>\n",
    "(2) Proposed weight vectors <br>\n",
    "Testing Set: Precision=0.120482, Recall=0.869565 <br>\n",
    "Testing Set: F1=0.211640, F10=0.819140 <br>\n",
    "\n",
    "Using our weight vectors we can obtain a way better Recall, say 20 times better than the original Recall. Since we assign larger weights to positive samples, the logistic regressor would tend to optimize True Positive Rate (TPR). Also, from the formulation, we can understand that TPR and Recall share the same formula under this problem. Hence, the Recall is optimized a lot. Besides, the False Negative Rate (FNR) is also optimized, since TPR + FNR = 1. However, we can observe that the Precision degenerates a little bit, since we tends to optimize the Recall and it sacrifices the Precision a little bit.\n",
    "\n",
    "From the perspective of F scores, using our weight vectors can improve the F1 and F10 scores by 3 times and 20 times, respectively. Because the Recall is improved by around 20 times, it's reasonable that both F1 and F10 got improved. Also, since F10 has larger beta than F1, where higher beta prefers the Recall more, we can observe that the improvements of F10 score is better than the one of F1 scores."
   ]
  },
  {
   "cell_type": "code",
   "execution_count": 37,
   "metadata": {},
   "outputs": [
    {
     "name": "stderr",
     "output_type": "stream",
     "text": [
      "C:\\Users\\CK-Lab\\Anaconda3\\lib\\site-packages\\sklearn\\linear_model\\logistic.py:432: FutureWarning: Default solver will be changed to 'lbfgs' in 0.22. Specify a solver to silence this warning.\n",
      "  FutureWarning)\n"
     ]
    },
    {
     "data": {
      "text/plain": [
       "LogisticRegression(C=1, class_weight=None, dual=False, fit_intercept=True,\n",
       "                   intercept_scaling=1, l1_ratio=None, max_iter=1000000,\n",
       "                   multi_class='warn', n_jobs=None, penalty='l2',\n",
       "                   random_state=None, solver='warn', tol=0.0001, verbose=0,\n",
       "                   warm_start=False)"
      ]
     },
     "execution_count": 37,
     "metadata": {},
     "output_type": "execute_result"
    }
   ],
   "source": [
    "weights = [1.0] *  len(YTrain)\n",
    "model = linear_model.LogisticRegression(C=1, max_iter=1000000)\n",
    "model.fit(XTrain, YTrain, sample_weight=weights)"
   ]
  },
  {
   "cell_type": "code",
   "execution_count": 38,
   "metadata": {},
   "outputs": [],
   "source": [
    "def FBetaScore(beta, precision, recall):\n",
    "    return (1+beta**2) * (precision*recall) / ((beta**2 * precision) + recall)\n",
    "\n",
    "def getPrecAndRecall(pred, golden):\n",
    "    retrieved = sum(pred)\n",
    "    relevant = sum(golden)\n",
    "    intersection = sum([y and p for y,p in zip(golden,pred)])\n",
    "    precision = intersection / retrieved\n",
    "    recall = intersection / relevant\n",
    "    return precision, recall"
   ]
  },
  {
   "cell_type": "code",
   "execution_count": 39,
   "metadata": {},
   "outputs": [
    {
     "name": "stdout",
     "output_type": "stream",
     "text": [
      "Testing Set: Precision=0.166667, Recall=0.043478\n",
      "Testing Set: F1=0.068966, F10=0.043799\n"
     ]
    }
   ],
   "source": [
    "predTest = model.predict(XTest)\n",
    "precTest, recallTest = getPrecAndRecall(predTest, YTest)\n",
    "print(\"Testing Set: Precision=%f, Recall=%f\" % (precTest, recallTest))\n",
    "F1 = FBetaScore(1, precTest, recallTest)\n",
    "F10 = FBetaScore(10, precTest, recallTest)\n",
    "print(\"Testing Set: F1=%f, F10=%f\" % (F1, F10))"
   ]
  },
  {
   "cell_type": "code",
   "execution_count": 40,
   "metadata": {},
   "outputs": [
    {
     "name": "stderr",
     "output_type": "stream",
     "text": [
      "C:\\Users\\CK-Lab\\Anaconda3\\lib\\site-packages\\sklearn\\linear_model\\logistic.py:432: FutureWarning: Default solver will be changed to 'lbfgs' in 0.22. Specify a solver to silence this warning.\n",
      "  FutureWarning)\n"
     ]
    },
    {
     "data": {
      "text/plain": [
       "LogisticRegression(C=1, class_weight=None, dual=False, fit_intercept=True,\n",
       "                   intercept_scaling=1, l1_ratio=None, max_iter=1000000,\n",
       "                   multi_class='warn', n_jobs=None, penalty='l2',\n",
       "                   random_state=None, solver='warn', tol=0.0001, verbose=0,\n",
       "                   warm_start=False)"
      ]
     },
     "execution_count": 40,
     "metadata": {},
     "output_type": "execute_result"
    }
   ],
   "source": [
    "# Adjust the weights\n",
    "weights = []\n",
    "for label in YTrain:\n",
    "    if label:\n",
    "        weights.append(50)\n",
    "    else:\n",
    "        weights.append(1)\n",
    "model = linear_model.LogisticRegression(C=1, max_iter=1000000)\n",
    "model.fit(XTrain, YTrain, sample_weight=weights)"
   ]
  },
  {
   "cell_type": "code",
   "execution_count": 41,
   "metadata": {},
   "outputs": [
    {
     "name": "stdout",
     "output_type": "stream",
     "text": [
      "Testing Set: Precision=0.120482, Recall=0.869565\n",
      "Testing Set: F1=0.211640, F10=0.819140\n"
     ]
    }
   ],
   "source": [
    "predTest = model.predict(XTest)\n",
    "precTest, recallTest = getPrecAndRecall(predTest, YTest)\n",
    "print(\"Testing Set: Precision=%f, Recall=%f\" % (precTest, recallTest))\n",
    "F1 = FBetaScore(1, precTest, recallTest)\n",
    "F10 = FBetaScore(10, precTest, recallTest)\n",
    "print(\"Testing Set: F1=%f, F10=%f\" % (F1, F10))"
   ]
  },
  {
   "cell_type": "code",
   "execution_count": 42,
   "metadata": {},
   "outputs": [
    {
     "name": "stdout",
     "output_type": "stream",
     "text": [
      "0.21164021164021163\n",
      "0.819140308191403\n"
     ]
    }
   ],
   "source": [
    "# Verify the results\n",
    "from sklearn.metrics import f1_score\n",
    "from sklearn.metrics import fbeta_score\n",
    "print(f1_score(YTest, predTest))\n",
    "print(fbeta_score(YTest, predTest, beta=10))"
   ]
  },
  {
   "cell_type": "markdown",
   "metadata": {},
   "source": [
    "### Tasks — Dimensionality Reduction (week 3):\n",
    "Next we’ll consider using PCA to build a lower-dimensional feature vector to do prediction."
   ]
  },
  {
   "cell_type": "markdown",
   "metadata": {},
   "source": [
    "#### 7. Following the stub code, compute the PCA basis on the training set. Report the first PCA component (i.e., pca.components [0])\n",
    "\n",
    "Answer: <br>\n",
    "pca.components_[0] = <br>\n",
    "array([ 5.54398275e-19,  1.86145936e-07, -1.00513284e-06,  1.09672142e-06,\n",
    "        5.91693387e-06,  2.07316984e-03,  7.69945396e-07,  2.14532011e-07,\n",
    "        6.15924793e-06, -5.65150471e-07,  9.43873245e-07,  1.68282544e-07,\n",
    "        1.19601424e-06,  4.34998419e-07,  2.14532011e-07, -2.71532633e-03,\n",
    "        1.05348882e-06,  6.72470970e-06,  2.14532011e-07,  4.66418405e-07,\n",
    "        1.21165787e-05, -1.32419690e-05,  1.52353090e-07,  4.30851831e-07,\n",
    "        5.27688958e-07,  1.14262704e-06,  9.18223270e-07, -8.66815547e-06,\n",
    "        3.32427600e-06,  3.96147646e-06, -1.71452401e-06,  4.53646651e-07,\n",
    "       -4.63903866e-04,  5.18408358e-06, -1.89996398e-06,  1.57949747e-07,\n",
    "       -1.01015589e-06,  9.27378776e-04,  8.60757884e-07,  2.00791513e-07,\n",
    "        3.16807724e-06, -2.65524688e-06,  3.99332878e-07,  3.49016094e-06,\n",
    "       -8.62697273e-06, -4.22562167e-07,  4.67337848e-06, -8.29662473e-05,\n",
    "        2.00092933e-07,  4.30542910e-07,  4.45459614e-06, -8.64275650e-07,\n",
    "       -1.23128771e-06,  3.29057139e-06,  3.26198684e-06,  9.99993579e-01,\n",
    "        2.16154837e-07, -2.96731736e-07, -2.71661088e-07, -4.41955372e-07,\n",
    "       -4.99769291e-05, -3.62964257e-06, -2.91492464e-04,  6.73957925e-06,\n",
    "       -4.67729462e-06])"
   ]
  },
  {
   "cell_type": "code",
   "execution_count": 252,
   "metadata": {},
   "outputs": [
    {
     "name": "stdout",
     "output_type": "stream",
     "text": [
      "65\n"
     ]
    }
   ],
   "source": [
    "print(len(XTrain[0]))\n",
    "pca = PCA(n_components=len(XTrain[0]))"
   ]
  },
  {
   "cell_type": "code",
   "execution_count": 253,
   "metadata": {},
   "outputs": [
    {
     "data": {
      "text/plain": [
       "PCA(copy=True, iterated_power='auto', n_components=65, random_state=None,\n",
       "    svd_solver='auto', tol=0.0, whiten=False)"
      ]
     },
     "execution_count": 253,
     "metadata": {},
     "output_type": "execute_result"
    }
   ],
   "source": [
    "pca.fit(XTrain)"
   ]
  },
  {
   "cell_type": "code",
   "execution_count": 254,
   "metadata": {},
   "outputs": [
    {
     "data": {
      "text/plain": [
       "array([ 5.54398275e-19,  1.86145936e-07, -1.00513284e-06,  1.09672142e-06,\n",
       "        5.91693387e-06,  2.07316984e-03,  7.69945396e-07,  2.14532011e-07,\n",
       "        6.15924793e-06, -5.65150471e-07,  9.43873245e-07,  1.68282544e-07,\n",
       "        1.19601424e-06,  4.34998419e-07,  2.14532011e-07, -2.71532633e-03,\n",
       "        1.05348882e-06,  6.72470970e-06,  2.14532011e-07,  4.66418405e-07,\n",
       "        1.21165787e-05, -1.32419690e-05,  1.52353090e-07,  4.30851831e-07,\n",
       "        5.27688958e-07,  1.14262704e-06,  9.18223270e-07, -8.66815547e-06,\n",
       "        3.32427600e-06,  3.96147646e-06, -1.71452401e-06,  4.53646651e-07,\n",
       "       -4.63903866e-04,  5.18408358e-06, -1.89996398e-06,  1.57949747e-07,\n",
       "       -1.01015589e-06,  9.27378776e-04,  8.60757884e-07,  2.00791513e-07,\n",
       "        3.16807724e-06, -2.65524688e-06,  3.99332878e-07,  3.49016094e-06,\n",
       "       -8.62697273e-06, -4.22562167e-07,  4.67337848e-06, -8.29662473e-05,\n",
       "        2.00092933e-07,  4.30542910e-07,  4.45459614e-06, -8.64275650e-07,\n",
       "       -1.23128771e-06,  3.29057139e-06,  3.26198684e-06,  9.99993579e-01,\n",
       "        2.16154837e-07, -2.96731736e-07, -2.71661088e-07, -4.41955372e-07,\n",
       "       -4.99769291e-05, -3.62964257e-06, -2.91492464e-04,  6.73957925e-06,\n",
       "       -4.67729462e-06])"
      ]
     },
     "execution_count": 254,
     "metadata": {},
     "output_type": "execute_result"
    }
   ],
   "source": [
    "pca.components_[0]"
   ]
  },
  {
   "cell_type": "markdown",
   "metadata": {},
   "source": [
    "#### 8. Next we’ll train a model using a low-dimensional feature vector. By representing the data in the above basis\n",
    "Xpca_train = numpy.matmul(Xtrain, pca.components_.T) <br>\n",
    "Xpca_valid = numpy.matmul(Xvalid, pca.components_.T) <br>\n",
    "Xpca_test = numpy.matmul(Xtest, pca.components_.T) <br>\n",
    "\n",
    "compute the validation and test BER of a model that uses just the first N components (i.e., dimensions) for N = 5, 10, . . . , 25, 30. Again use class weight=’balanced’ and C = 1.0 <br>\n",
    "\n",
    "Answer: <br>\n",
    "N=5, training BER:0.308895, validation BER:0.304786, testing BER:0.357350 <br>\n",
    "N=10, training BER:0.313519, validation BER:0.325618, testing BER:0.340666 <br>\n",
    "N=15, training BER:0.242663, validation BER:0.241187, testing BER:0.300051 <br>\n",
    "N=20, training BER:0.215971, validation BER:0.258101, testing BER:0.280213 <br>\n",
    "N=25, training BER:0.175104, validation BER:0.216224, testing BER:0.231412 <br>\n",
    "N=30, training BER:0.152665, validation BER:0.158180, testing BER:0.180196 <br>\n",
    "\n",
    "Also see below plot. From the plot, we can observe that the BER would be improved, when more dimensions are used to train the model. Basically, validation and testing BERs share the same trend, where both BERs get improved when more features (dimensions) of training set are used to train the regression model."
   ]
  },
  {
   "cell_type": "code",
   "execution_count": 255,
   "metadata": {},
   "outputs": [
    {
     "name": "stdout",
     "output_type": "stream",
     "text": [
      "(1516, 65)\n"
     ]
    }
   ],
   "source": [
    "Xpca_train = numpy.matmul(XTrain, pca.components_.T)\n",
    "Xpca_valid = numpy.matmul(XValid, pca.components_.T)\n",
    "Xpca_test = numpy.matmul(XTest, pca.components_.T)\n",
    "print(Xpca_train.shape)"
   ]
  },
  {
   "cell_type": "code",
   "execution_count": 256,
   "metadata": {},
   "outputs": [],
   "source": [
    "def getBerByGivenNDim(N):\n",
    "    reducedXTrain = [x[:N] for x in Xpca_train]\n",
    "    reducedXValid = [x[:N] for x in Xpca_valid]\n",
    "    reducedXTest = [x[:N] for x in Xpca_test]\n",
    "    model = linear_model.LogisticRegression(C=1.0, max_iter=1000000, class_weight='balanced')\n",
    "    model.fit(reducedXTrain,YTrain)\n",
    "    \n",
    "    predTrain = model.predict(reducedXTrain)\n",
    "    predValid = model.predict(reducedXValid)\n",
    "    predTest = model.predict(reducedXTest)\n",
    "    \n",
    "    return getBER(predTrain,YTrain), getBER(predValid,YValid), getBER(predTest,YTest)"
   ]
  },
  {
   "cell_type": "code",
   "execution_count": 257,
   "metadata": {},
   "outputs": [
    {
     "name": "stderr",
     "output_type": "stream",
     "text": [
      "C:\\Users\\CK-Lab\\Anaconda3\\lib\\site-packages\\sklearn\\linear_model\\logistic.py:432: FutureWarning: Default solver will be changed to 'lbfgs' in 0.22. Specify a solver to silence this warning.\n",
      "  FutureWarning)\n",
      "C:\\Users\\CK-Lab\\Anaconda3\\lib\\site-packages\\sklearn\\linear_model\\logistic.py:432: FutureWarning: Default solver will be changed to 'lbfgs' in 0.22. Specify a solver to silence this warning.\n",
      "  FutureWarning)\n",
      "C:\\Users\\CK-Lab\\Anaconda3\\lib\\site-packages\\sklearn\\linear_model\\logistic.py:432: FutureWarning: Default solver will be changed to 'lbfgs' in 0.22. Specify a solver to silence this warning.\n",
      "  FutureWarning)\n",
      "C:\\Users\\CK-Lab\\Anaconda3\\lib\\site-packages\\sklearn\\linear_model\\logistic.py:432: FutureWarning: Default solver will be changed to 'lbfgs' in 0.22. Specify a solver to silence this warning.\n",
      "  FutureWarning)\n",
      "C:\\Users\\CK-Lab\\Anaconda3\\lib\\site-packages\\sklearn\\linear_model\\logistic.py:432: FutureWarning: Default solver will be changed to 'lbfgs' in 0.22. Specify a solver to silence this warning.\n",
      "  FutureWarning)\n",
      "C:\\Users\\CK-Lab\\Anaconda3\\lib\\site-packages\\sklearn\\linear_model\\logistic.py:432: FutureWarning: Default solver will be changed to 'lbfgs' in 0.22. Specify a solver to silence this warning.\n",
      "  FutureWarning)\n"
     ]
    }
   ],
   "source": [
    "Ns = range(5,35,5)\n",
    "trainBERs = []\n",
    "validBERs = []\n",
    "testBERs = []\n",
    "\n",
    "for N in Ns:\n",
    "    trainBER, validBER, testBER = getBerByGivenNDim(N)\n",
    "    trainBERs.append(trainBER)\n",
    "    validBERs.append(validBER)\n",
    "    testBERs.append(testBER)"
   ]
  },
  {
   "cell_type": "code",
   "execution_count": 258,
   "metadata": {},
   "outputs": [
    {
     "name": "stderr",
     "output_type": "stream",
     "text": [
      "C:\\Users\\CK-Lab\\Anaconda3\\lib\\site-packages\\matplotlib\\backends\\backend_agg.py:211: RuntimeWarning: Glyph 12555 missing from current font.\n",
      "  font.set_text(s, 0.0, flags=flags)\n",
      "C:\\Users\\CK-Lab\\Anaconda3\\lib\\site-packages\\matplotlib\\backends\\backend_agg.py:180: RuntimeWarning: Glyph 12555 missing from current font.\n",
      "  font.set_text(s, 0, flags=flags)\n"
     ]
    },
    {
     "data": {
      "image/png": "[encoded data removed]",
      "text/plain": [
       "<Figure size 432x288 with 1 Axes>"
      ]
     },
     "metadata": {
      "needs_background": "light"
     },
     "output_type": "display_data"
    }
   ],
   "source": [
    "plt.plot(Ns, trainBERs, 'o-', color='r', label = 'Training BER')\n",
    "plt.plot(Ns, validBERs, 'o-', color='b', label = 'Validation BER')\n",
    "plt.plot(Ns, testBERs, 'o-', color='g', label = 'Testing BER')\n",
    "\n",
    "plt.legend()\n",
    "plt.ylabel('BERs')\n",
    "plt.xlabel('First N components (dimensionㄋ)')\n",
    "plt.show()"
   ]
  },
  {
   "cell_type": "code",
   "execution_count": 259,
   "metadata": {},
   "outputs": [
    {
     "name": "stdout",
     "output_type": "stream",
     "text": [
      "N=5, training BER:0.308895, validation BER:0.304786, testing BER:0.357350\n",
      "N=10, training BER:0.313519, validation BER:0.325618, testing BER:0.340666\n",
      "N=15, training BER:0.242663, validation BER:0.241187, testing BER:0.300051\n",
      "N=20, training BER:0.215971, validation BER:0.258101, testing BER:0.280213\n",
      "N=25, training BER:0.175104, validation BER:0.216224, testing BER:0.231412\n",
      "N=30, training BER:0.152665, validation BER:0.158180, testing BER:0.180196\n"
     ]
    }
   ],
   "source": [
    "for i in range(len(Ns)):\n",
    "    print(\"N=%d, training BER:%f, validation BER:%f, testing BER:%f\" % (Ns[i],trainBERs[i], validBERs[i], testBERs[i]))"
   ]
  },
  {
   "cell_type": "code",
   "execution_count": null,
   "metadata": {},
   "outputs": [],
   "source": []
  }
 ],
 "metadata": {
  "kernelspec": {
   "display_name": "Python 3",
   "language": "python",
   "name": "python3"
  },
  "language_info": {
   "codemirror_mode": {
    "name": "ipython",
    "version": 3
   },
   "file_extension": ".py",
   "mimetype": "text/x-python",
   "name": "python",
   "nbconvert_exporter": "python",
   "pygments_lexer": "ipython3",
   "version": "3.7.3"
  }
 },
 "nbformat": 4,
 "nbformat_minor": 4
}
